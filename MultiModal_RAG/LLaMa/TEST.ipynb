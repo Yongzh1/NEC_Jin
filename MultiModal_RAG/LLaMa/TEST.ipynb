{
 "cells": [
  {
   "cell_type": "code",
   "execution_count": 3,
   "metadata": {},
   "outputs": [
    {
     "ename": "ModuleNotFoundError",
     "evalue": "No module named 'imagebind'",
     "output_type": "error",
     "traceback": [
      "\u001b[0;31m---------------------------------------------------------------------------\u001b[0m",
      "\u001b[0;31mModuleNotFoundError\u001b[0m                       Traceback (most recent call last)",
      "\u001b[0;32m/tmp/ipykernel_2293232/654260559.py\u001b[0m in \u001b[0;36m<module>\u001b[0;34m\u001b[0m\n\u001b[0;32m----> 1\u001b[0;31m \u001b[0;32mfrom\u001b[0m \u001b[0mimagebind\u001b[0m \u001b[0;32mimport\u001b[0m \u001b[0mdata\u001b[0m\u001b[0;34m\u001b[0m\u001b[0;34m\u001b[0m\u001b[0m\n\u001b[0m\u001b[1;32m      2\u001b[0m \u001b[0;32mimport\u001b[0m \u001b[0mtorch\u001b[0m\u001b[0;34m\u001b[0m\u001b[0;34m\u001b[0m\u001b[0m\n\u001b[1;32m      3\u001b[0m \u001b[0;32mfrom\u001b[0m \u001b[0mimagebind\u001b[0m\u001b[0;34m.\u001b[0m\u001b[0mmodels\u001b[0m \u001b[0;32mimport\u001b[0m \u001b[0mimagebind_model\u001b[0m\u001b[0;34m\u001b[0m\u001b[0;34m\u001b[0m\u001b[0m\n\u001b[1;32m      4\u001b[0m \u001b[0;32mfrom\u001b[0m \u001b[0mimagebind\u001b[0m\u001b[0;34m.\u001b[0m\u001b[0mmodels\u001b[0m\u001b[0;34m.\u001b[0m\u001b[0mimagebind_model\u001b[0m \u001b[0;32mimport\u001b[0m \u001b[0mModalityType\u001b[0m\u001b[0;34m\u001b[0m\u001b[0;34m\u001b[0m\u001b[0m\n\u001b[1;32m      5\u001b[0m \u001b[0;34m\u001b[0m\u001b[0m\n",
      "\u001b[0;31mModuleNotFoundError\u001b[0m: No module named 'imagebind'"
     ]
    }
   ],
   "source": [
    "from imagebind import data\n",
    "import torch\n",
    "from imagebind.models import imagebind_model\n",
    "from imagebind.models.imagebind_model import ModalityType\n",
    "\n",
    "text_list=[\"A dog.\", \"A car\", \"A bird\"]\n",
    "image_paths=[\".assets/dog_image.jpg\", \".assets/car_image.jpg\", \".assets/bird_image.jpg\"]\n",
    "audio_paths=[\".assets/dog_audio.wav\", \".assets/car_audio.wav\", \".assets/bird_audio.wav\"]\n",
    "\n",
    "device = \"cuda:0\" if torch.cuda.is_available() else \"cpu\"\n",
    "\n",
    "# Instantiate model\n",
    "model = imagebind_model.imagebind_huge(pretrained=True)\n",
    "model.eval()\n",
    "model.to(device)\n",
    "\n",
    "# Load data\n",
    "inputs = {\n",
    "    ModalityType.TEXT: data.load_and_transform_text(text_list, device),\n",
    "    ModalityType.VISION: data.load_and_transform_vision_data(image_paths, device),\n",
    "    ModalityType.AUDIO: data.load_and_transform_audio_data(audio_paths, device),\n",
    "}\n",
    "\n",
    "with torch.no_grad():\n",
    "    embeddings = model(inputs)\n",
    "\n",
    "print(\n",
    "    \"Vision x Text: \",\n",
    "    torch.softmax(embeddings[ModalityType.VISION] @ embeddings[ModalityType.TEXT].T, dim=-1),\n",
    ")\n",
    "print(\n",
    "    \"Audio x Text: \",\n",
    "    torch.softmax(embeddings[ModalityType.AUDIO] @ embeddings[ModalityType.TEXT].T, dim=-1),\n",
    ")\n",
    "print(\n",
    "    \"Vision x Audio: \",\n",
    "    torch.softmax(embeddings[ModalityType.VISION] @ embeddings[ModalityType.AUDIO].T, dim=-1),\n",
    ")"
   ]
  },
  {
   "cell_type": "code",
   "execution_count": 2,
   "metadata": {},
   "outputs": [
    {
     "name": "stdout",
     "output_type": "stream",
     "text": [
      "Defaulting to user installation because normal site-packages is not writeable\n",
      "Collecting imagebind\n",
      "  Downloading imagebind-0.0.1.dev0-py3-none-any.whl (1.1 kB)\n",
      "Requirement already satisfied: torch in /home/isi/jyongzhi/.local/lib/python3.10/site-packages (from imagebind) (2.4.1)\n",
      "Requirement already satisfied: jinja2 in /usr/lib/python3/dist-packages (from torch->imagebind) (3.0.3)\n",
      "Requirement already satisfied: nvidia-cuda-nvrtc-cu12==12.1.105 in /home/isi/jyongzhi/.local/lib/python3.10/site-packages (from torch->imagebind) (12.1.105)\n",
      "Requirement already satisfied: networkx in /home/isi/jyongzhi/.local/lib/python3.10/site-packages (from torch->imagebind) (3.3)\n",
      "Requirement already satisfied: fsspec in /home/isi/jyongzhi/.local/lib/python3.10/site-packages (from torch->imagebind) (2024.6.1)\n",
      "Requirement already satisfied: nvidia-cudnn-cu12==9.1.0.70 in /home/isi/jyongzhi/.local/lib/python3.10/site-packages (from torch->imagebind) (9.1.0.70)\n",
      "Requirement already satisfied: nvidia-nvtx-cu12==12.1.105 in /home/isi/jyongzhi/.local/lib/python3.10/site-packages (from torch->imagebind) (12.1.105)\n",
      "Requirement already satisfied: typing-extensions>=4.8.0 in /home/isi/jyongzhi/.local/lib/python3.10/site-packages (from torch->imagebind) (4.12.2)\n",
      "Requirement already satisfied: triton==3.0.0 in /home/isi/jyongzhi/.local/lib/python3.10/site-packages (from torch->imagebind) (3.0.0)\n",
      "Requirement already satisfied: filelock in /home/isi/jyongzhi/.local/lib/python3.10/site-packages (from torch->imagebind) (3.16.1)\n",
      "Requirement already satisfied: nvidia-cuda-runtime-cu12==12.1.105 in /home/isi/jyongzhi/.local/lib/python3.10/site-packages (from torch->imagebind) (12.1.105)\n",
      "Requirement already satisfied: nvidia-curand-cu12==10.3.2.106 in /home/isi/jyongzhi/.local/lib/python3.10/site-packages (from torch->imagebind) (10.3.2.106)\n",
      "Requirement already satisfied: nvidia-cublas-cu12==12.1.3.1 in /home/isi/jyongzhi/.local/lib/python3.10/site-packages (from torch->imagebind) (12.1.3.1)\n",
      "Requirement already satisfied: nvidia-cusparse-cu12==12.1.0.106 in /home/isi/jyongzhi/.local/lib/python3.10/site-packages (from torch->imagebind) (12.1.0.106)\n",
      "Requirement already satisfied: sympy in /usr/lib/python3/dist-packages (from torch->imagebind) (1.9)\n",
      "Requirement already satisfied: nvidia-cufft-cu12==11.0.2.54 in /home/isi/jyongzhi/.local/lib/python3.10/site-packages (from torch->imagebind) (11.0.2.54)\n",
      "Requirement already satisfied: nvidia-cusolver-cu12==11.4.5.107 in /home/isi/jyongzhi/.local/lib/python3.10/site-packages (from torch->imagebind) (11.4.5.107)\n",
      "Requirement already satisfied: nvidia-cuda-cupti-cu12==12.1.105 in /home/isi/jyongzhi/.local/lib/python3.10/site-packages (from torch->imagebind) (12.1.105)\n",
      "Requirement already satisfied: nvidia-nccl-cu12==2.20.5 in /home/isi/jyongzhi/.local/lib/python3.10/site-packages (from torch->imagebind) (2.20.5)\n",
      "Requirement already satisfied: nvidia-nvjitlink-cu12 in /home/isi/jyongzhi/.local/lib/python3.10/site-packages (from nvidia-cusolver-cu12==11.4.5.107->torch->imagebind) (12.6.77)\n",
      "Installing collected packages: imagebind\n",
      "Successfully installed imagebind-0.0.1.dev0\n"
     ]
    }
   ],
   "source": [
    "!pip3 install imagebind"
   ]
  },
  {
   "cell_type": "code",
   "execution_count": null,
   "metadata": {},
   "outputs": [],
   "source": []
  }
 ],
 "metadata": {
  "kernelspec": {
   "display_name": "Python 3",
   "language": "python",
   "name": "python3"
  },
  "language_info": {
   "codemirror_mode": {
    "name": "ipython",
    "version": 3
   },
   "file_extension": ".py",
   "mimetype": "text/x-python",
   "name": "python",
   "nbconvert_exporter": "python",
   "pygments_lexer": "ipython3",
   "version": "3.9.6"
  }
 },
 "nbformat": 4,
 "nbformat_minor": 2
}
