{
 "cells": [
  {
   "cell_type": "code",
   "execution_count": 28,
   "id": "27ace3ba-3eaa-4059-ab07-60333dcdebe4",
   "metadata": {},
   "outputs": [],
   "source": [
    "from transformers import AutoProcessor, PaliGemmaForConditionalGeneration,PaliGemmaProcessor\n",
    "from PIL import Image\n",
    "import requests\n",
    "import numpy as np"
   ]
  },
  {
   "cell_type": "code",
   "execution_count": 52,
   "id": "1f7bf37c-ed7c-40c9-b778-25710a108f3a",
   "metadata": {},
   "outputs": [
    {
     "data": {
      "application/vnd.jupyter.widget-view+json": {
       "model_id": "d66cff49cd5a4678a14323d64678b2ef",
       "version_major": 2,
       "version_minor": 0
      },
      "text/plain": [
       "Loading checkpoint shards:   0%|          | 0/3 [00:00<?, ?it/s]"
      ]
     },
     "metadata": {},
     "output_type": "display_data"
    }
   ],
   "source": [
    "model_id = \"google/paligemma-3b-ft-nlvr2-448\"  # checkpoint tuned for multiple images\n",
    "model = PaliGemmaForConditionalGeneration.from_pretrained(model_id)\n",
    "processor = PaliGemmaProcessor.from_pretrained(model_id)\n",
    "\n",
    "prompt = [\"answer Which of the two pictures shows a snowman, first or second?\"] * 2\n",
    "stop_sign_image = Image.open(\n",
    "    requests.get(\"https://www.ilankelman.org/stopsigns/australia.jpg\", stream=True).raw\n",
    ")\n",
    "snow_image = Image.open(\n",
    "    requests.get(\n",
    "        \"https://huggingface.co/microsoft/kosmos-2-patch14-224/resolve/main/snowman.jpg\", stream=True\n",
    "    ).raw\n",
    ")"
   ]
  },
  {
   "cell_type": "code",
   "execution_count": 53,
   "id": "db5612dc-c296-4434-851f-6de29622bb94",
   "metadata": {},
   "outputs": [],
   "source": [
    "images = [snow_image,stop_sign_image]  # Assuming the same image for all questions"
   ]
  },
  {
   "cell_type": "code",
   "execution_count": 54,
   "id": "0e4fc484-ef7e-4cfb-9bd0-5ab005979f99",
   "metadata": {},
   "outputs": [],
   "source": [
    "inputs = processor(images=images, text=prompt, return_tensors=\"pt\")"
   ]
  },
  {
   "cell_type": "code",
   "execution_count": 55,
   "id": "408dd888-1ead-4ad3-835a-6174bba623ab",
   "metadata": {},
   "outputs": [],
   "source": [
    "output = model.generate(**inputs, max_new_tokens=20)"
   ]
  },
  {
   "cell_type": "code",
   "execution_count": 56,
   "id": "62452e7a-c811-4160-9c3f-8b4bb821f079",
   "metadata": {},
   "outputs": [
    {
     "name": "stdout",
     "output_type": "stream",
     "text": [
      "answer Which of the two pictures shows a snowman, first or second?\n",
      "First.\n"
     ]
    }
   ],
   "source": [
    "print(processor.decode(output[0], skip_special_tokens=True))"
   ]
  },
  {
   "cell_type": "code",
   "execution_count": null,
   "id": "8ebdf522-4204-448a-9282-79592f0320c3",
   "metadata": {},
   "outputs": [],
   "source": []
  },
  {
   "cell_type": "code",
   "execution_count": null,
   "id": "86bab934-6a9a-45a6-b3e5-88c8bb597f4d",
   "metadata": {},
   "outputs": [],
   "source": [
    "[array[snow_image, stop_sign_image]]"
   ]
  },
  {
   "cell_type": "code",
   "execution_count": null,
   "id": "f8e9fee5-767b-4cf5-a069-d38724689e67",
   "metadata": {},
   "outputs": [],
   "source": [
    "np.array([stop_sign_image, snow_image])"
   ]
  },
  {
   "cell_type": "code",
   "execution_count": 34,
   "id": "61b80b7e-a1d8-4b97-9af3-2d038c01dcd6",
   "metadata": {},
   "outputs": [
    {
     "data": {
      "text/plain": [
       "[<PIL.JpegImagePlugin.JpegImageFile image mode=RGB size=1024x1024>,\n",
       " <PIL.JpegImagePlugin.JpegImageFile image mode=RGB size=1024x1024>,\n",
       " <PIL.JpegImagePlugin.JpegImageFile image mode=RGB size=1024x1024>]"
      ]
     },
     "execution_count": 34,
     "metadata": {},
     "output_type": "execute_result"
    }
   ],
   "source": [
    "images"
   ]
  },
  {
   "cell_type": "code",
   "execution_count": null,
   "id": "12d2ebd3-8778-42a7-b635-acd87077f99f",
   "metadata": {},
   "outputs": [],
   "source": []
  }
 ],
 "metadata": {
  "kernelspec": {
   "display_name": "Python 3 (ipykernel)",
   "language": "python",
   "name": "python3"
  },
  "language_info": {
   "codemirror_mode": {
    "name": "ipython",
    "version": 3
   },
   "file_extension": ".py",
   "mimetype": "text/x-python",
   "name": "python",
   "nbconvert_exporter": "python",
   "pygments_lexer": "ipython3",
   "version": "3.9.5"
  }
 },
 "nbformat": 4,
 "nbformat_minor": 5
}
